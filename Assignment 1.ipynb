{
 "cells": [
  {
   "cell_type": "code",
   "execution_count": null,
   "id": "45ffa5cc-17a7-40a5-a703-3cf0fa08fea8",
   "metadata": {},
   "outputs": [],
   "source": [
    "Date:-29/2/23"
   ]
  },
  {
   "cell_type": "code",
   "execution_count": null,
   "id": "f6759db6-6b36-4c2d-9d3e-789ee7abec52",
   "metadata": {},
   "outputs": [],
   "source": [
    "Qno 1. Ans- Guido van Rossum"
   ]
  },
  {
   "cell_type": "code",
   "execution_count": null,
   "id": "d0a1fcc3-022e-4b4e-bf24-da93fb3b15cc",
   "metadata": {},
   "outputs": [],
   "source": [
    "Qno 2. Ans-Object-oriented programming and structured programming."
   ]
  },
  {
   "cell_type": "code",
   "execution_count": null,
   "id": "056c7453-e069-4e56-bed6-c6a3b958ce2d",
   "metadata": {},
   "outputs": [],
   "source": [
    "Qno 3. Ans-Yes,It is a case sensitive language."
   ]
  },
  {
   "cell_type": "code",
   "execution_count": null,
   "id": "f7e51af0-1ff3-434e-b0fe-cc91bb9fcf4e",
   "metadata": {},
   "outputs": [],
   "source": [
    "Qno 4. Ans-Extension :- .py"
   ]
  },
  {
   "cell_type": "code",
   "execution_count": null,
   "id": "25e1d61d-de6a-46e8-a527-4f687e089344",
   "metadata": {},
   "outputs": [],
   "source": [
    "Qno 5. Ans-Yes python code is compiled as well as interpreted language."
   ]
  },
  {
   "cell_type": "code",
   "execution_count": null,
   "id": "0f5e74ec-d894-45f2-96d8-d522f06c20e5",
   "metadata": {},
   "outputs": [],
   "source": [
    "Qno 6. Ans- Identation is used to define in python language."
   ]
  },
  {
   "cell_type": "code",
   "execution_count": null,
   "id": "d63fe0e0-300c-4dbc-8e44-977a1b087711",
   "metadata": {},
   "outputs": [],
   "source": [
    "Qno 7. Ans- '#' character is used to single line comment."
   ]
  },
  {
   "cell_type": "code",
   "execution_count": null,
   "id": "739b7ed8-47af-45bc-8130-3a91b8f37988",
   "metadata": {},
   "outputs": [],
   "source": [
    "Qno 8. Ans- Using python_version() function."
   ]
  },
  {
   "cell_type": "code",
   "execution_count": null,
   "id": "697bb997-7f2f-45fa-b24d-a42ce337e97e",
   "metadata": {},
   "outputs": [],
   "source": [
    "Qno 10. Ans- It uses construct called \"lambda\"."
   ]
  },
  {
   "cell_type": "code",
   "execution_count": null,
   "id": "ae79f9d5-aac9-418e-9e17-b27f6159d048",
   "metadata": {},
   "outputs": [],
   "source": [
    "Qno 11. Ans- PIP stand for Performance Improvement Plan."
   ]
  },
  {
   "cell_type": "code",
   "execution_count": null,
   "id": "679e31f9-6f79-4eb1-ac03-d84b95c25d11",
   "metadata": {},
   "outputs": [],
   "source": [
    "Qno 12. Ans- Built-in function are :-len(),bool(),print(),list()."
   ]
  },
  {
   "cell_type": "code",
   "execution_count": null,
   "id": "fa04cbbb-d03e-444b-8c00-433a8329d381",
   "metadata": {},
   "outputs": [],
   "source": [
    "Qno 13. Ans- Maximum length of identifier in python - 79 character."
   ]
  },
  {
   "cell_type": "code",
   "execution_count": null,
   "id": "e3d488fa-ce7a-4cde-b892-164274a51d27",
   "metadata": {},
   "outputs": [],
   "source": [
    "Qno 14. Ans- Benefits of python are it is simple,clean and fast to write. It is used to Developing websites and software\n",
    "task automation,data analysis, and data visualisation.\n"
   ]
  },
  {
   "cell_type": "code",
   "execution_count": null,
   "id": "d724a1b9-98ef-445b-a0a2-eeef0360a1ec",
   "metadata": {},
   "outputs": [],
   "source": [
    "Qno 15. Ans- Memory managed in python, it involve a private heap that containing all python and object and data structure,\n",
    "this private heap is ensured internally by the python memory manager. All value object are stored in the heap memory.\n",
    "The function call and the references are stored in the stack memory."
   ]
  },
  {
   "cell_type": "code",
   "execution_count": null,
   "id": "4e27e25f-2ce2-4b87-8d5d-e8c061971901",
   "metadata": {},
   "outputs": [],
   "source": [
    "Qno 16. Ans- Here identation refer to the space at the beginnig of the code line , the identation is very important \n",
    "in python. It is used to indicate a block of code. "
   ]
  }
 ],
 "metadata": {
  "kernelspec": {
   "display_name": "Python 3 (ipykernel)",
   "language": "python",
   "name": "python3"
  },
  "language_info": {
   "codemirror_mode": {
    "name": "ipython",
    "version": 3
   },
   "file_extension": ".py",
   "mimetype": "text/x-python",
   "name": "python",
   "nbconvert_exporter": "python",
   "pygments_lexer": "ipython3",
   "version": "3.10.8"
  }
 },
 "nbformat": 4,
 "nbformat_minor": 5
}
